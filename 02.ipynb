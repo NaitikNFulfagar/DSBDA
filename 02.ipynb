{
  "cells": [
    {
      "cell_type": "code",
      "execution_count": null,
      "metadata": {
        "id": "6Ba7VC4AcCDX"
      },
      "outputs": [],
      "source": [
        "import pandas as pd\n",
        "import numpy as np"
      ]
    },
    {
      "cell_type": "code",
      "execution_count": null,
      "metadata": {
        "id": "pGxU0RtudRdo"
      },
      "outputs": [],
      "source": [
        "df=pd.read_csv(\"data2.csv\")"
      ]
    },
    {
      "cell_type": "code",
      "execution_count": null,
      "metadata": {
        "colab": {
          "base_uri": "https://localhost:8080/",
          "height": 393
        },
        "id": "HdvUe62AdZmo",
        "outputId": "fd86bc4f-2821-4a02-c1a1-437f6397b452"
      },
      "outputs": [],
      "source": [
        "df"
      ]
    },
    {
      "cell_type": "code",
      "execution_count": null,
      "metadata": {
        "colab": {
          "base_uri": "https://localhost:8080/",
          "height": 393
        },
        "id": "tU_bhP2Xeuvx",
        "outputId": "26ffdf58-ad39-49ee-dacc-91eb862c8375"
      },
      "outputs": [],
      "source": [
        "df.isnull().sum()"
      ]
    },
    {
      "cell_type": "code",
      "execution_count": null,
      "metadata": {
        "colab": {
          "base_uri": "https://localhost:8080/",
          "height": 142
        },
        "id": "XyDXqVUPfCz9",
        "outputId": "6bd5911f-1e19-4081-834a-867fd87bed98"
      },
      "outputs": [],
      "source": [
        "series = pd.isnull(df[\"math score\"])\n",
        "df[series]"
      ]
    },
    {
      "cell_type": "code",
      "execution_count": null,
      "metadata": {
        "colab": {
          "base_uri": "https://localhost:8080/",
          "height": 393
        },
        "id": "D9o1J8hPfHFX",
        "outputId": "1b74ef52-7a97-4863-eebb-07f7445adb68"
      },
      "outputs": [],
      "source": [
        "df.notnull().sum()"
      ]
    },
    {
      "cell_type": "code",
      "execution_count": null,
      "metadata": {
        "colab": {
          "base_uri": "https://localhost:8080/",
          "height": 361
        },
        "id": "Pt9LiNLpfWcH",
        "outputId": "8c36c119-0418-4405-9cb7-27a45f1b9fe1"
      },
      "outputs": [],
      "source": [
        "series1 = pd.notnull(df[\"math score\"])\n",
        "df[series1]"
      ]
    },
    {
      "cell_type": "code",
      "execution_count": null,
      "metadata": {
        "colab": {
          "base_uri": "https://localhost:8080/",
          "height": 393
        },
        "id": "V8YuljgdfktA",
        "outputId": "2004c4bd-b3b8-4ed1-d2d4-d5a3f7a31181"
      },
      "outputs": [],
      "source": [
        "from sklearn.preprocessing import LabelEncoder\n",
        "le = LabelEncoder()\n",
        "df['gender'] = le.fit_transform(df['gender'])\n",
        "newdf=df\n",
        "df"
      ]
    },
    {
      "cell_type": "code",
      "execution_count": null,
      "metadata": {
        "colab": {
          "base_uri": "https://localhost:8080/",
          "height": 393
        },
        "id": "HVEKR82BgE2T",
        "outputId": "39d66bb1-2eae-4e50-80a8-4bfa4df01b19"
      },
      "outputs": [],
      "source": [
        "missing_values = [\"Na\", \"na\",\" \"]\n",
        "df = pd.read_csv(\"data2.csv\", na_values = missing_values)\n",
        "df"
      ]
    },
    {
      "cell_type": "code",
      "execution_count": null,
      "metadata": {},
      "outputs": [],
      "source": [
        "ndf=df\n",
        "ndf.fillna(0)\n",
        "ndf"
      ]
    },
    {
      "cell_type": "code",
      "execution_count": null,
      "metadata": {
        "colab": {
          "base_uri": "https://localhost:8080/",
          "height": 393
        },
        "id": "7ABeyV2DhjA_",
        "outputId": "f839912d-d997-4291-faa2-a5d4c3ac5421"
      },
      "outputs": [],
      "source": [
        "df['reading score'] = df['reading score'].fillna(df['reading score'].median())\n",
        "df"
      ]
    },
    {
      "cell_type": "code",
      "execution_count": null,
      "metadata": {},
      "outputs": [],
      "source": [
        "df['math score'] = df['math score'].fillna(df['math score'].mean())\n",
        "df"
      ]
    },
    {
      "cell_type": "code",
      "execution_count": null,
      "metadata": {
        "colab": {
          "base_uri": "https://localhost:8080/",
          "height": 393
        },
        "id": "8OF27za1hx66",
        "outputId": "064249b5-652f-4b7e-9865-bdfb32372991"
      },
      "outputs": [],
      "source": [
        "df['writing score'] = df['writing score'].fillna(df['writing score'].std())\n",
        "df"
      ]
    },
    {
      "cell_type": "code",
      "execution_count": null,
      "metadata": {
        "colab": {
          "base_uri": "https://localhost:8080/",
          "height": 393
        },
        "id": "FPaR421FiBtD",
        "outputId": "ab539fb1-91a6-4c56-d033-c774470df2a8"
      },
      "outputs": [],
      "source": [
        "df['Placement Score'] = df['Placement Score'].fillna(df['Placement Score'].min())\n",
        "df"
      ]
    },
    {
      "cell_type": "code",
      "execution_count": null,
      "metadata": {
        "colab": {
          "base_uri": "https://localhost:8080/",
          "height": 393
        },
        "id": "fLQe1iNWkSET",
        "outputId": "514185e2-5441-467c-f6a6-3eb790e2441c"
      },
      "outputs": [],
      "source": [
        "df"
      ]
    },
    {
      "cell_type": "code",
      "execution_count": null,
      "metadata": {
        "colab": {
          "base_uri": "https://localhost:8080/",
          "height": 393
        },
        "id": "VV0I-IKQkVCf",
        "outputId": "b395e9ed-48a6-4303-c5a2-d475e9d7db0d"
      },
      "outputs": [],
      "source": [
        "ndf.replace(to_replace = np.nan, value = -99)\n"
      ]
    },
    {
      "cell_type": "code",
      "execution_count": null,
      "metadata": {
        "colab": {
          "base_uri": "https://localhost:8080/",
          "height": 267
        },
        "id": "I19E5jYzkVJe",
        "outputId": "6df72935-ee4b-45d9-e04a-871095bb4c16"
      },
      "outputs": [],
      "source": [
        "ndf.dropna()"
      ]
    },
    {
      "cell_type": "code",
      "execution_count": null,
      "metadata": {
        "colab": {
          "base_uri": "https://localhost:8080/",
          "height": 393
        },
        "id": "pWCWJHjkkuBE",
        "outputId": "85d4c149-ed80-43f4-dc97-577c5e4c7d22"
      },
      "outputs": [],
      "source": [
        "ndf.dropna(how = 'all')"
      ]
    },
    {
      "cell_type": "code",
      "execution_count": null,
      "metadata": {
        "colab": {
          "base_uri": "https://localhost:8080/",
          "height": 393
        },
        "id": "z3RLzjJ9kxSA",
        "outputId": "02a1dec5-3037-43f4-8dd9-ca58fd447f4d"
      },
      "outputs": [],
      "source": [
        "ndf.dropna(axis = 1)"
      ]
    },
    {
      "cell_type": "code",
      "execution_count": null,
      "metadata": {
        "colab": {
          "base_uri": "https://localhost:8080/",
          "height": 267
        },
        "id": "7OWjf_lOk6mK",
        "outputId": "bb88427e-fcc1-4b4b-8210-d5f6628e3da0"
      },
      "outputs": [],
      "source": [
        "new_data = ndf.dropna(axis = 0, how ='any')\n",
        "new_data"
      ]
    },
    {
      "cell_type": "code",
      "execution_count": null,
      "metadata": {
        "colab": {
          "base_uri": "https://localhost:8080/",
          "height": 1000
        },
        "id": "dIlVWkCMljE0",
        "outputId": "104e6f8a-3e08-4614-c871-1c156116af58"
      },
      "outputs": [],
      "source": [
        "df=pd.read_csv(\"data22.csv\")\n",
        "df"
      ]
    },
    {
      "cell_type": "code",
      "execution_count": null,
      "metadata": {
        "colab": {
          "base_uri": "https://localhost:8080/",
          "height": 283
        },
        "id": "2gJtK18omG3t",
        "outputId": "fc7ff17c-2b82-479a-e859-f52e3f01ae06"
      },
      "outputs": [],
      "source": [
        "import matplotlib.pyplot as plt\n",
        "col = ['math score', 'reading score' , 'writing score','placement score']\n",
        "df.boxplot(col)"
      ]
    },
    {
      "cell_type": "code",
      "execution_count": null,
      "metadata": {
        "colab": {
          "base_uri": "https://localhost:8080/"
        },
        "id": "ZP9XwwwdmxxQ",
        "outputId": "2696539a-f28e-46e2-fee8-bfe0a130d9bc"
      },
      "outputs": [],
      "source": [
        "print(np.where(df['math score']>90))\n",
        "print(np.where(df['reading score']<25))\n",
        "print(np.where(df['writing score']<30))"
      ]
    },
    {
      "cell_type": "code",
      "execution_count": null,
      "metadata": {
        "colab": {
          "base_uri": "https://localhost:8080/",
          "height": 431
        },
        "id": "pgXXBGqvm9K3",
        "outputId": "20893386-e768-426e-9cb6-30c6a7444aa5"
      },
      "outputs": [],
      "source": [
        "fig, ax = plt.subplots(figsize = (10,3))\n",
        "ax.scatter(df['placement score'], df['placement offer count'])\n",
        "plt.show()"
      ]
    },
    {
      "cell_type": "code",
      "execution_count": null,
      "metadata": {},
      "outputs": [],
      "source": [
        "df.plot(kind = 'scatter', x = 'placement score', y = 'placement offer count')\n",
        "plt.show()"
      ]
    },
    {
      "cell_type": "code",
      "execution_count": null,
      "metadata": {
        "id": "44Vcg4f1nJJC"
      },
      "outputs": [],
      "source": [
        "from scipy import stats"
      ]
    },
    {
      "cell_type": "code",
      "execution_count": null,
      "metadata": {
        "id": "EhI0I6CBnPLh"
      },
      "outputs": [],
      "source": [
        "z = np.abs(stats.zscore(df['math score']))"
      ]
    },
    {
      "cell_type": "code",
      "execution_count": null,
      "metadata": {
        "colab": {
          "base_uri": "https://localhost:8080/"
        },
        "id": "OwDcQrBrnWUf",
        "outputId": "e179ce3f-3342-4cd6-8e44-c9804b111e75"
      },
      "outputs": [],
      "source": [
        "print(z)"
      ]
    },
    {
      "cell_type": "code",
      "execution_count": null,
      "metadata": {
        "id": "Yp_JPLYEnbby"
      },
      "outputs": [],
      "source": [
        "threshold = 0.18"
      ]
    },
    {
      "cell_type": "code",
      "execution_count": null,
      "metadata": {
        "colab": {
          "base_uri": "https://localhost:8080/"
        },
        "id": "9dGUohQ8nflP",
        "outputId": "220df1fc-f243-4851-ea08-af4fcd630c5d"
      },
      "outputs": [],
      "source": [
        "sample_outliers = np.where(z <threshold)\n",
        "sample_outliers"
      ]
    },
    {
      "cell_type": "code",
      "execution_count": null,
      "metadata": {
        "colab": {
          "base_uri": "https://localhost:8080/"
        },
        "id": "afVGRRAOnh-x",
        "outputId": "a793017b-45d4-4c9a-a187-f7a9c6df87c8"
      },
      "outputs": [],
      "source": [
        "sorted_rscore= sorted(df['reading score'])\n",
        "sorted_rscore"
      ]
    },
    {
      "cell_type": "code",
      "execution_count": null,
      "metadata": {
        "colab": {
          "base_uri": "https://localhost:8080/"
        },
        "id": "t2KQxSrHn53w",
        "outputId": "fcd8f47d-8741-40c4-8d0a-0714591f1589"
      },
      "outputs": [],
      "source": [
        "q1 = np.percentile(sorted_rscore, 25)\n",
        "q3 = np.percentile(sorted_rscore, 75)\n",
        "print(q1,q3)"
      ]
    },
    {
      "cell_type": "code",
      "execution_count": null,
      "metadata": {
        "id": "4OxliaVGn9Ea"
      },
      "outputs": [],
      "source": [
        "IQR = q3-q1"
      ]
    },
    {
      "cell_type": "code",
      "execution_count": null,
      "metadata": {
        "colab": {
          "base_uri": "https://localhost:8080/"
        },
        "id": "g1IvbNevn-Cy",
        "outputId": "91b75933-64d0-4b2a-9500-d11a0a0255c7"
      },
      "outputs": [],
      "source": [
        "lwr_bound = q1-(1.5*IQR)\n",
        "upr_bound = q3+(1.5*IQR)\n",
        "print(lwr_bound, upr_bound)"
      ]
    },
    {
      "cell_type": "code",
      "execution_count": null,
      "metadata": {
        "colab": {
          "base_uri": "https://localhost:8080/"
        },
        "id": "DgzlZqxIoA7I",
        "outputId": "f8477792-6afb-48b7-ded8-87f634538ca8"
      },
      "outputs": [],
      "source": [
        "r_outliers = []\n",
        "for i in sorted_rscore:\n",
        "  if (i<lwr_bound or i>upr_bound):\n",
        "    r_outliers.append(i)\n",
        "print(r_outliers)"
      ]
    }
  ],
  "metadata": {
    "colab": {
      "provenance": []
    },
    "kernelspec": {
      "display_name": "Python 3",
      "name": "python3"
    },
    "language_info": {
      "codemirror_mode": {
        "name": "ipython",
        "version": 3
      },
      "file_extension": ".py",
      "mimetype": "text/x-python",
      "name": "python",
      "nbconvert_exporter": "python",
      "pygments_lexer": "ipython3",
      "version": "3.12.3"
    }
  },
  "nbformat": 4,
  "nbformat_minor": 0
}
